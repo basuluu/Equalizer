{
 "cells": [
  {
   "cell_type": "code",
   "execution_count": 1,
   "metadata": {},
   "outputs": [],
   "source": [
    "from tkinter import *\n",
    "import sys\n",
    "sys.path.insert(0, '../Equalizer')\n",
    "\n",
    "from Equalizer import Equalizer\n",
    "from Player import Player\n",
    "from Slider import Slider\n",
    "from PIL import ImageTk \n",
    "\n",
    "master = Tk()\n",
    "master.geometry(\"800x600\")\n",
    "name_range = ['<320Hz', '320-960Hz', '960-2240Hz', '2240-4800Hz', '4800-9920Hz', '>9920Hz']\n",
    "\n",
    "Eq = Equalizer()    \n",
    "Eq.set_input_stream(path=\"sum41.wav\")\n",
    "player = Player(master, Eq)\n",
    "\n",
    "master.protocol(\"WM_DELETE_WINDOW\", player.on_closing)\n",
    "\n",
    "effectframe = Frame(master)\n",
    "middleframe = Frame(master)\n",
    "importframe = Frame(master)\n",
    "for i in range(6): \n",
    "    w = Slider(Eq.filters[i], master)\n",
    "    w.setName(name_range[i])\n",
    "    w.name.place(x=75-4+115*i, y=180)\n",
    "    w.scale.place(x=75+115*i, y=200, height=200)\n",
    "    w.label.place(x=75+2+115*i, y=410, height=20, width=60)\n",
    "    w.name.config(font=(\"Helvetica\", 12))\n",
    "    w.label.config(font=(\"Helvetica\", 12))\n",
    "\n",
    "var = IntVar()\n",
    "var.set(0)\n",
    "R0 = Radiobutton(effectframe, text=\"No effect\", font=(\"Times New Roman\", 14), \n",
    "                 variable=var, value=0, command=player.choice_no_effect)\n",
    "R1 = Radiobutton(effectframe, text=\"Echo\", font=(\"Times New Roman\", 14), \n",
    "                 variable=var, value=1, command=player.choice_echo_effect)\n",
    "R2 = Radiobutton(effectframe, text=\"Distortion\", font=(\"Times New Roman\", 14), \n",
    "                 variable=var, value=2, command=player.choice_distortion_effect)\n",
    "Label(effectframe, text=\"Choice effect:\", height=5, font=(\"Helvetica\", 16), \n",
    "      justify=\"center\", anchor=\"c\").grid(row=0, column=0)\n",
    "\n",
    "R0.grid(row=0, column=1)\n",
    "R1.grid(row=0, column=2)\n",
    "R2.grid(row=0, column=3)\n",
    "\n",
    "import_button_img = ImageTk.PhotoImage(file=\"import_button.png\")\n",
    "B0 = Button(importframe, image=import_button_img, command=player.open_audio)\n",
    "B0.grid(row=0, column=1, padx=20)\n",
    "Label(importframe, text=\"Import music file(*.wav):\", height=5, font=(\"Helvetica\", 16), \n",
    "      justify=\"center\", anchor=\"c\").grid(row=0, column=0)\n",
    "\n",
    "launch_button_img = ImageTk.PhotoImage(file=\"launch_button.png\")\n",
    "B1 = Button(middleframe, image=launch_button_img, command=player.play)\n",
    "B1.grid(row=0, column=0, padx=10, pady=10)\n",
    "\n",
    "pause_button_img = ImageTk.PhotoImage(file=\"pause_button.png\")\n",
    "B2 = Button(middleframe, image=pause_button_img, border=0, command=player.pause)\n",
    "B2.grid(row=0, column=1, padx=10, pady=10)\n",
    "\n",
    "restart_button_img = ImageTk.PhotoImage(file=\"restart_button.png\")\n",
    "B3 = Button(middleframe, image=restart_button_img, command=player.restart)\n",
    "B3.grid(row=0, column=2, padx=10, pady=10)\n",
    "\n",
    "middleframe.place(x=265, y=430)\n",
    "importframe.place(x=265, y=30)\n",
    "effectframe.place(x=75, y=485)\n",
    "\n",
    "mainloop()\n",
    "\n",
    " "
   ]
  },
  {
   "cell_type": "code",
   "execution_count": 8,
   "metadata": {},
   "outputs": [
    {
     "ename": "TypeError",
     "evalue": "__init__() takes 1 positional argument but 2 were given",
     "output_type": "error",
     "traceback": [
      "\u001b[0;31m---------------------------------------------------------------------------\u001b[0m",
      "\u001b[0;31mTypeError\u001b[0m                                 Traceback (most recent call last)",
      "\u001b[0;32m<ipython-input-8-da03324f9953>\u001b[0m in \u001b[0;36m<module>\u001b[0;34m()\u001b[0m\n\u001b[1;32m     19\u001b[0m         \u001b[0;32mpass\u001b[0m\u001b[0;34m\u001b[0m\u001b[0m\n\u001b[1;32m     20\u001b[0m \u001b[0;34m\u001b[0m\u001b[0m\n\u001b[0;32m---> 21\u001b[0;31m \u001b[0mEchoEffect\u001b[0m\u001b[0;34m(\u001b[0m\u001b[0;36m1\u001b[0m\u001b[0;34m)\u001b[0m\u001b[0;34m\u001b[0m\u001b[0m\n\u001b[0m",
      "\u001b[0;31mTypeError\u001b[0m: __init__() takes 1 positional argument but 2 were given"
     ]
    }
   ],
   "source": [
    "from abc import ABC, abstractmethod\n",
    " \n",
    " \n",
    "class Effect(ABC):\n",
    "    def __init__(self, equalizer_object):\n",
    "        self.eq = equalizer_object\n",
    "\n",
    "    @abstractmethod\n",
    "    def processing(self):\n",
    "        pass \n",
    "    \n",
    "class EchoEffect(Effect):\n",
    "    def __init__(self):\n",
    "        super().__init__()\n",
    "        self.eq = equalizer_obj\n",
    "        self.deque_output_data = deque()\n",
    "        \n",
    "    def processing(self):\n",
    "        pass\n",
    "\n",
    "EchoEffect(1)"
   ]
  },
  {
   "cell_type": "code",
   "execution_count": 17,
   "metadata": {},
   "outputs": [
    {
     "name": "stdout",
     "output_type": "stream",
     "text": [
      "Enriched functionality\n"
     ]
    }
   ],
   "source": [
    "from abc import ABC, abstractmethod\n",
    " \n",
    " \n",
    "class Basic(ABC):\n",
    "    @abstractmethod\n",
    "    def hello(self):\n",
    "        print(\"Hello from Basic class\")\n",
    " \n",
    " \n",
    "class Advanced(Basic):\n",
    "    def hello(self):\n",
    "        print(\"Enriched functionality\")\n",
    " \n",
    "a = Advanced()\n",
    "a.hello()"
   ]
  },
  {
   "cell_type": "code",
   "execution_count": 6,
   "metadata": {},
   "outputs": [
    {
     "data": {
      "text/plain": [
       "0.03"
      ]
     },
     "execution_count": 6,
     "metadata": {},
     "output_type": "execute_result"
    }
   ],
   "source": [
    "step = round(1.0 / 30.0, 2)\n",
    "step"
   ]
  },
  {
   "cell_type": "code",
   "execution_count": 1,
   "metadata": {},
   "outputs": [],
   "source": [
    "from tkinter import *\n",
    " \n",
    "def circle():\n",
    "    c.create_oval(x, y, x+30, y+30)\n",
    " \n",
    "def square():\n",
    "    c.create_rectangle(x, y, x+30, y+30)\n",
    " \n",
    "def triangle():\n",
    "    c.create_polygon(x, y, x-15, y+30, x+15, y+30,\n",
    "                    fill='white', outline='black')\n",
    " \n",
    "root = Tk()\n",
    " \n",
    "c = Canvas(width=300, height=300, bg='white')\n",
    "c.pack()\n",
    " \n",
    "menu = Menu(tearoff=0)\n",
    "menu.add_command(label=\"Круг\", command=circle)\n",
    "menu.add_command(label=\"Квадрат\", command=square)\n",
    "menu.add_command(label=\"Треугольник\", command=triangle)\n",
    " \n",
    "x = 0\n",
    "y = 0\n",
    "def popup(event):\n",
    "    global x, y\n",
    "    x = event.x\n",
    "    y = event.y\n",
    "    menu.post(event.x_root, event.y_root)\n",
    " \n",
    "c.bind(\"<Button-3>\", popup)\n",
    " \n",
    "root.mainloop()"
   ]
  },
  {
   "cell_type": "code",
   "execution_count": 17,
   "metadata": {},
   "outputs": [
    {
     "data": {
      "text/plain": [
       "0.09999999999999998"
      ]
     },
     "execution_count": 17,
     "metadata": {},
     "output_type": "execute_result"
    }
   ],
   "source": [
    "1.0 - (10.0 - 1) * 0.1"
   ]
  },
  {
   "cell_type": "code",
   "execution_count": 24,
   "metadata": {},
   "outputs": [
    {
     "data": {
      "text/plain": [
       "'.wav'"
      ]
     },
     "execution_count": 24,
     "metadata": {},
     "output_type": "execute_result"
    }
   ],
   "source": [
    "'asdasd.wav'[-4:]"
   ]
  },
  {
   "cell_type": "code",
   "execution_count": 14,
   "metadata": {},
   "outputs": [],
   "source": [
    "from tkinter import *\n",
    "\n",
    "master = Tk()\n",
    "master.geometry(\"800x600\")\n",
    "\n",
    "frame = Frame(relief=RAISED, borderwidth=1)\n",
    "frame.pack(fill=BOTH, expand=True)\n",
    "\n",
    "closeButton = Button(frame, text=\"Close\")\n",
    "closeButton.pack(side=RIGHT, padx=5, pady=5)\n",
    "\n",
    "mainloop()"
   ]
  },
  {
   "cell_type": "code",
   "execution_count": 30,
   "metadata": {},
   "outputs": [
    {
     "name": "stdout",
     "output_type": "stream",
     "text": [
      "<class 'numpy.ndarray'>\n",
      "CPU times: user 9.46 ms, sys: 0 ns, total: 9.46 ms\n",
      "Wall time: 9.15 ms\n"
     ]
    }
   ],
   "source": [
    "%%time\n",
    "import numpy\n",
    "output_data = range(1, 4410)\n",
    "a = [\n",
    "    numpy.array(output_data, dtype='f'), \n",
    "    numpy.array(output_data, dtype='f'),\n",
    "    numpy.array(output_data, dtype='f'), \n",
    "    numpy.array(output_data, dtype='f'), \n",
    "    numpy.array(output_data, dtype='f'), \n",
    "    numpy.array(output_data, dtype='f')\n",
    "]\n",
    "print(type(sum(a)))"
   ]
  },
  {
   "cell_type": "code",
   "execution_count": 16,
   "metadata": {},
   "outputs": [
    {
     "name": "stdout",
     "output_type": "stream",
     "text": [
      "CPU times: user 10.7 ms, sys: 224 µs, total: 10.9 ms\n",
      "Wall time: 10.4 ms\n"
     ]
    }
   ],
   "source": [
    "%%time\n",
    "output_data = []\n",
    "filters_output_data = [\n",
    "    range(4410),\n",
    "    range(4410),\n",
    "    range(4410),\n",
    "    range(4410),\n",
    "    range(4410),\n",
    "    range(4410)\n",
    "]\n",
    "for i in range(4410):\n",
    "    sample = 0\n",
    "    for j in range(len(filters_output_data)):\n",
    "        sample += filters_output_data[j][i]\n",
    "    output_data.append(sample)"
   ]
  },
  {
   "cell_type": "code",
   "execution_count": 21,
   "metadata": {},
   "outputs": [
    {
     "name": "stdout",
     "output_type": "stream",
     "text": [
      "4409\n"
     ]
    }
   ],
   "source": [
    "print(len(output_data))"
   ]
  },
  {
   "cell_type": "code",
   "execution_count": 6,
   "metadata": {},
   "outputs": [
    {
     "data": {
      "text/plain": [
       "3"
      ]
     },
     "execution_count": 6,
     "metadata": {},
     "output_type": "execute_result"
    }
   ],
   "source": [
    "a = [1,2]\n",
    "a.append(3)\n",
    "a.pop()"
   ]
  },
  {
   "cell_type": "code",
   "execution_count": 11,
   "metadata": {},
   "outputs": [
    {
     "data": {
      "text/plain": [
       "3"
      ]
     },
     "execution_count": 11,
     "metadata": {},
     "output_type": "execute_result"
    }
   ],
   "source": [
    "from collections import deque\n",
    "\n",
    "a = deque()\n",
    "a.append(1)\n",
    "a.append(2)\n",
    "a\n",
    "sum(a)"
   ]
  },
  {
   "cell_type": "code",
   "execution_count": null,
   "metadata": {},
   "outputs": [],
   "source": []
  }
 ],
 "metadata": {
  "kernelspec": {
   "display_name": "Python 3",
   "language": "python",
   "name": "python3"
  },
  "language_info": {
   "codemirror_mode": {
    "name": "ipython",
    "version": 3
   },
   "file_extension": ".py",
   "mimetype": "text/x-python",
   "name": "python",
   "nbconvert_exporter": "python",
   "pygments_lexer": "ipython3",
   "version": "3.6.5"
  }
 },
 "nbformat": 4,
 "nbformat_minor": 2
}
